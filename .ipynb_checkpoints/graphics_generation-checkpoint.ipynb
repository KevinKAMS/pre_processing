{
 "cells": [
  {
   "cell_type": "code",
   "execution_count": null,
   "id": "9757426b-0338-49db-9404-a87d9ab958bb",
   "metadata": {},
   "outputs": [],
   "source": [
    "pip install pyarrow"
   ]
  },
  {
   "cell_type": "code",
   "execution_count": null,
   "id": "6bb5dc9e-be46-4ee6-9058-a22cc3165869",
   "metadata": {},
   "outputs": [],
   "source": [
    "pip install fastparquet"
   ]
  },
  {
   "cell_type": "code",
   "execution_count": 2,
   "id": "95af50fb-1693-4a6d-9476-89fe3de44003",
   "metadata": {},
   "outputs": [],
   "source": [
    "import pandas as pd\n",
    "import numpy as np\n",
    "logins = pd.read_parquet('full_clean_logins.parquet')"
   ]
  },
  {
   "cell_type": "code",
   "execution_count": 2,
   "id": "343da541-b8f0-49f6-b5a9-8f79f4827ce3",
   "metadata": {},
   "outputs": [
    {
     "data": {
      "text/html": [
       "<div>\n",
       "<style scoped>\n",
       "    .dataframe tbody tr th:only-of-type {\n",
       "        vertical-align: middle;\n",
       "    }\n",
       "\n",
       "    .dataframe tbody tr th {\n",
       "        vertical-align: top;\n",
       "    }\n",
       "\n",
       "    .dataframe thead th {\n",
       "        text-align: right;\n",
       "    }\n",
       "</style>\n",
       "<table border=\"1\" class=\"dataframe\">\n",
       "  <thead>\n",
       "    <tr style=\"text-align: right;\">\n",
       "      <th></th>\n",
       "      <th>id</th>\n",
       "      <th>account_id</th>\n",
       "      <th>device_id</th>\n",
       "      <th>installation_id</th>\n",
       "      <th>timestamp</th>\n",
       "      <th>is_from_official_store</th>\n",
       "      <th>is_emulator</th>\n",
       "      <th>has_fake_location_app</th>\n",
       "      <th>has_fake_location_enabled</th>\n",
       "      <th>probable_root</th>\n",
       "      <th>...</th>\n",
       "      <th>never_permitted_location_on_account</th>\n",
       "      <th>boot_count</th>\n",
       "      <th>wallpaper_count</th>\n",
       "      <th>n_accounts</th>\n",
       "      <th>ato</th>\n",
       "      <th>new_acess</th>\n",
       "      <th>ato_from_emulator</th>\n",
       "      <th>ato_from_root</th>\n",
       "      <th>old_account</th>\n",
       "      <th>account_in_new_device</th>\n",
       "    </tr>\n",
       "  </thead>\n",
       "  <tbody>\n",
       "    <tr>\n",
       "      <th>0</th>\n",
       "      <td>799740346458</td>\n",
       "      <td>YgXAhVgdDLsozwto</td>\n",
       "      <td>fGb574abkmDJTQ6M</td>\n",
       "      <td>Uv9PEQZEwsW8nLOj</td>\n",
       "      <td>2021-05-17 22:25:37</td>\n",
       "      <td>True</td>\n",
       "      <td>False</td>\n",
       "      <td>False</td>\n",
       "      <td>0.0</td>\n",
       "      <td>False</td>\n",
       "      <td>...</td>\n",
       "      <td>False</td>\n",
       "      <td>129.000000</td>\n",
       "      <td>28.000000</td>\n",
       "      <td>1.0</td>\n",
       "      <td>False</td>\n",
       "      <td>False</td>\n",
       "      <td>False</td>\n",
       "      <td>False</td>\n",
       "      <td>False</td>\n",
       "      <td>False</td>\n",
       "    </tr>\n",
       "    <tr>\n",
       "      <th>1</th>\n",
       "      <td>799740346459</td>\n",
       "      <td>bO+gPxgfZG9sXtCb</td>\n",
       "      <td>Xll03k9l/OL2r6LM</td>\n",
       "      <td>pR7skP90RuM3oqhK</td>\n",
       "      <td>2021-05-06 13:48:57</td>\n",
       "      <td>True</td>\n",
       "      <td>False</td>\n",
       "      <td>False</td>\n",
       "      <td>0.0</td>\n",
       "      <td>False</td>\n",
       "      <td>...</td>\n",
       "      <td>False</td>\n",
       "      <td>131.000000</td>\n",
       "      <td>224.000000</td>\n",
       "      <td>1.0</td>\n",
       "      <td>False</td>\n",
       "      <td>False</td>\n",
       "      <td>False</td>\n",
       "      <td>False</td>\n",
       "      <td>False</td>\n",
       "      <td>False</td>\n",
       "    </tr>\n",
       "    <tr>\n",
       "      <th>2</th>\n",
       "      <td>799740346460</td>\n",
       "      <td>9mEBGcdz+RLzRNB4</td>\n",
       "      <td>qoKjqPhxqyALMsQ5</td>\n",
       "      <td>hzKrODiR6F0jG4rH</td>\n",
       "      <td>2021-07-02 12:11:39</td>\n",
       "      <td>True</td>\n",
       "      <td>False</td>\n",
       "      <td>False</td>\n",
       "      <td>0.0</td>\n",
       "      <td>False</td>\n",
       "      <td>...</td>\n",
       "      <td>False</td>\n",
       "      <td>179.000000</td>\n",
       "      <td>6.000000</td>\n",
       "      <td>1.0</td>\n",
       "      <td>False</td>\n",
       "      <td>False</td>\n",
       "      <td>False</td>\n",
       "      <td>False</td>\n",
       "      <td>False</td>\n",
       "      <td>False</td>\n",
       "    </tr>\n",
       "    <tr>\n",
       "      <th>3</th>\n",
       "      <td>799740346461</td>\n",
       "      <td>tghz/Mlz069esl03</td>\n",
       "      <td>5fqsAP5QUp1M3PLC</td>\n",
       "      <td>krWwUuXbmBEP9g38</td>\n",
       "      <td>2021-06-25 18:24:27</td>\n",
       "      <td>True</td>\n",
       "      <td>False</td>\n",
       "      <td>False</td>\n",
       "      <td>0.0</td>\n",
       "      <td>False</td>\n",
       "      <td>...</td>\n",
       "      <td>False</td>\n",
       "      <td>38.000000</td>\n",
       "      <td>11.000000</td>\n",
       "      <td>1.0</td>\n",
       "      <td>False</td>\n",
       "      <td>False</td>\n",
       "      <td>False</td>\n",
       "      <td>False</td>\n",
       "      <td>False</td>\n",
       "      <td>False</td>\n",
       "    </tr>\n",
       "    <tr>\n",
       "      <th>4</th>\n",
       "      <td>799740346462</td>\n",
       "      <td>9mEBGcdz+RLzRNB4</td>\n",
       "      <td>qoKjqPhxqyALMsQ5</td>\n",
       "      <td>hzKrODiR6F0jG4rH</td>\n",
       "      <td>2021-05-01 22:02:04</td>\n",
       "      <td>True</td>\n",
       "      <td>False</td>\n",
       "      <td>False</td>\n",
       "      <td>0.0</td>\n",
       "      <td>False</td>\n",
       "      <td>...</td>\n",
       "      <td>False</td>\n",
       "      <td>137.525651</td>\n",
       "      <td>214.928724</td>\n",
       "      <td>1.0</td>\n",
       "      <td>False</td>\n",
       "      <td>False</td>\n",
       "      <td>False</td>\n",
       "      <td>False</td>\n",
       "      <td>False</td>\n",
       "      <td>False</td>\n",
       "    </tr>\n",
       "    <tr>\n",
       "      <th>...</th>\n",
       "      <td>...</td>\n",
       "      <td>...</td>\n",
       "      <td>...</td>\n",
       "      <td>...</td>\n",
       "      <td>...</td>\n",
       "      <td>...</td>\n",
       "      <td>...</td>\n",
       "      <td>...</td>\n",
       "      <td>...</td>\n",
       "      <td>...</td>\n",
       "      <td>...</td>\n",
       "      <td>...</td>\n",
       "      <td>...</td>\n",
       "      <td>...</td>\n",
       "      <td>...</td>\n",
       "      <td>...</td>\n",
       "      <td>...</td>\n",
       "      <td>...</td>\n",
       "      <td>...</td>\n",
       "      <td>...</td>\n",
       "      <td>...</td>\n",
       "    </tr>\n",
       "    <tr>\n",
       "      <th>5418781</th>\n",
       "      <td>610761839602</td>\n",
       "      <td>jR7Ld1m4Fom8uL0x</td>\n",
       "      <td>9DoNIYybkAM3Qhce</td>\n",
       "      <td>ZZGJl7ctBDXTWP+l</td>\n",
       "      <td>2021-06-18 18:15:45</td>\n",
       "      <td>True</td>\n",
       "      <td>False</td>\n",
       "      <td>False</td>\n",
       "      <td>0.0</td>\n",
       "      <td>False</td>\n",
       "      <td>...</td>\n",
       "      <td>False</td>\n",
       "      <td>59.000000</td>\n",
       "      <td>3.000000</td>\n",
       "      <td>1.0</td>\n",
       "      <td>False</td>\n",
       "      <td>False</td>\n",
       "      <td>False</td>\n",
       "      <td>False</td>\n",
       "      <td>False</td>\n",
       "      <td>False</td>\n",
       "    </tr>\n",
       "    <tr>\n",
       "      <th>5418782</th>\n",
       "      <td>610761839603</td>\n",
       "      <td>0P+LG8RygUuir6GH</td>\n",
       "      <td>5BQFIYrQ2RB0htrl</td>\n",
       "      <td>NRmG0yugy1VzBvXr</td>\n",
       "      <td>2021-07-15 10:41:12</td>\n",
       "      <td>True</td>\n",
       "      <td>False</td>\n",
       "      <td>False</td>\n",
       "      <td>0.0</td>\n",
       "      <td>False</td>\n",
       "      <td>...</td>\n",
       "      <td>False</td>\n",
       "      <td>640.000000</td>\n",
       "      <td>199.000000</td>\n",
       "      <td>1.0</td>\n",
       "      <td>False</td>\n",
       "      <td>False</td>\n",
       "      <td>False</td>\n",
       "      <td>False</td>\n",
       "      <td>True</td>\n",
       "      <td>False</td>\n",
       "    </tr>\n",
       "    <tr>\n",
       "      <th>5418783</th>\n",
       "      <td>610761839604</td>\n",
       "      <td>UYpfGMAKM4k1wAtb</td>\n",
       "      <td>rF7dOlT6LBC/Sbid</td>\n",
       "      <td>tlA+E/bYUPHzJ4Lv</td>\n",
       "      <td>2021-05-05 16:49:51</td>\n",
       "      <td>True</td>\n",
       "      <td>False</td>\n",
       "      <td>False</td>\n",
       "      <td>0.0</td>\n",
       "      <td>False</td>\n",
       "      <td>...</td>\n",
       "      <td>False</td>\n",
       "      <td>137.525651</td>\n",
       "      <td>214.928724</td>\n",
       "      <td>1.0</td>\n",
       "      <td>False</td>\n",
       "      <td>False</td>\n",
       "      <td>False</td>\n",
       "      <td>False</td>\n",
       "      <td>False</td>\n",
       "      <td>False</td>\n",
       "    </tr>\n",
       "    <tr>\n",
       "      <th>5418784</th>\n",
       "      <td>610761839605</td>\n",
       "      <td>XDge1Eg72j3pdLem</td>\n",
       "      <td>rYPy8DmF1l5FJp4U</td>\n",
       "      <td>kk1NuPraON5ZyJyM</td>\n",
       "      <td>2021-06-09 04:36:12</td>\n",
       "      <td>True</td>\n",
       "      <td>False</td>\n",
       "      <td>False</td>\n",
       "      <td>0.0</td>\n",
       "      <td>False</td>\n",
       "      <td>...</td>\n",
       "      <td>False</td>\n",
       "      <td>44.000000</td>\n",
       "      <td>6.000000</td>\n",
       "      <td>1.0</td>\n",
       "      <td>False</td>\n",
       "      <td>False</td>\n",
       "      <td>False</td>\n",
       "      <td>False</td>\n",
       "      <td>False</td>\n",
       "      <td>False</td>\n",
       "    </tr>\n",
       "    <tr>\n",
       "      <th>5418785</th>\n",
       "      <td>610761839606</td>\n",
       "      <td>dZapXiG2I9CByOyb</td>\n",
       "      <td>QRG1f1U/h+PDYp0Q</td>\n",
       "      <td>QTLVV0DksXDlCXw3</td>\n",
       "      <td>2021-06-17 13:11:32</td>\n",
       "      <td>True</td>\n",
       "      <td>False</td>\n",
       "      <td>False</td>\n",
       "      <td>0.0</td>\n",
       "      <td>False</td>\n",
       "      <td>...</td>\n",
       "      <td>False</td>\n",
       "      <td>137.525651</td>\n",
       "      <td>214.928724</td>\n",
       "      <td>1.0</td>\n",
       "      <td>False</td>\n",
       "      <td>False</td>\n",
       "      <td>False</td>\n",
       "      <td>False</td>\n",
       "      <td>False</td>\n",
       "      <td>False</td>\n",
       "    </tr>\n",
       "  </tbody>\n",
       "</table>\n",
       "<p>5416990 rows × 22 columns</p>\n",
       "</div>"
      ],
      "text/plain": [
       "                   id        account_id         device_id   installation_id  \\\n",
       "0        799740346458  YgXAhVgdDLsozwto  fGb574abkmDJTQ6M  Uv9PEQZEwsW8nLOj   \n",
       "1        799740346459  bO+gPxgfZG9sXtCb  Xll03k9l/OL2r6LM  pR7skP90RuM3oqhK   \n",
       "2        799740346460  9mEBGcdz+RLzRNB4  qoKjqPhxqyALMsQ5  hzKrODiR6F0jG4rH   \n",
       "3        799740346461  tghz/Mlz069esl03  5fqsAP5QUp1M3PLC  krWwUuXbmBEP9g38   \n",
       "4        799740346462  9mEBGcdz+RLzRNB4  qoKjqPhxqyALMsQ5  hzKrODiR6F0jG4rH   \n",
       "...               ...               ...               ...               ...   \n",
       "5418781  610761839602  jR7Ld1m4Fom8uL0x  9DoNIYybkAM3Qhce  ZZGJl7ctBDXTWP+l   \n",
       "5418782  610761839603  0P+LG8RygUuir6GH  5BQFIYrQ2RB0htrl  NRmG0yugy1VzBvXr   \n",
       "5418783  610761839604  UYpfGMAKM4k1wAtb  rF7dOlT6LBC/Sbid  tlA+E/bYUPHzJ4Lv   \n",
       "5418784  610761839605  XDge1Eg72j3pdLem  rYPy8DmF1l5FJp4U  kk1NuPraON5ZyJyM   \n",
       "5418785  610761839606  dZapXiG2I9CByOyb  QRG1f1U/h+PDYp0Q  QTLVV0DksXDlCXw3   \n",
       "\n",
       "                  timestamp  is_from_official_store  is_emulator  \\\n",
       "0       2021-05-17 22:25:37                    True        False   \n",
       "1       2021-05-06 13:48:57                    True        False   \n",
       "2       2021-07-02 12:11:39                    True        False   \n",
       "3       2021-06-25 18:24:27                    True        False   \n",
       "4       2021-05-01 22:02:04                    True        False   \n",
       "...                     ...                     ...          ...   \n",
       "5418781 2021-06-18 18:15:45                    True        False   \n",
       "5418782 2021-07-15 10:41:12                    True        False   \n",
       "5418783 2021-05-05 16:49:51                    True        False   \n",
       "5418784 2021-06-09 04:36:12                    True        False   \n",
       "5418785 2021-06-17 13:11:32                    True        False   \n",
       "\n",
       "         has_fake_location_app  has_fake_location_enabled  probable_root  ...  \\\n",
       "0                        False                        0.0          False  ...   \n",
       "1                        False                        0.0          False  ...   \n",
       "2                        False                        0.0          False  ...   \n",
       "3                        False                        0.0          False  ...   \n",
       "4                        False                        0.0          False  ...   \n",
       "...                        ...                        ...            ...  ...   \n",
       "5418781                  False                        0.0          False  ...   \n",
       "5418782                  False                        0.0          False  ...   \n",
       "5418783                  False                        0.0          False  ...   \n",
       "5418784                  False                        0.0          False  ...   \n",
       "5418785                  False                        0.0          False  ...   \n",
       "\n",
       "         never_permitted_location_on_account  boot_count  wallpaper_count  \\\n",
       "0                                      False  129.000000        28.000000   \n",
       "1                                      False  131.000000       224.000000   \n",
       "2                                      False  179.000000         6.000000   \n",
       "3                                      False   38.000000        11.000000   \n",
       "4                                      False  137.525651       214.928724   \n",
       "...                                      ...         ...              ...   \n",
       "5418781                                False   59.000000         3.000000   \n",
       "5418782                                False  640.000000       199.000000   \n",
       "5418783                                False  137.525651       214.928724   \n",
       "5418784                                False   44.000000         6.000000   \n",
       "5418785                                False  137.525651       214.928724   \n",
       "\n",
       "         n_accounts    ato  new_acess  ato_from_emulator  ato_from_root  \\\n",
       "0               1.0  False      False              False          False   \n",
       "1               1.0  False      False              False          False   \n",
       "2               1.0  False      False              False          False   \n",
       "3               1.0  False      False              False          False   \n",
       "4               1.0  False      False              False          False   \n",
       "...             ...    ...        ...                ...            ...   \n",
       "5418781         1.0  False      False              False          False   \n",
       "5418782         1.0  False      False              False          False   \n",
       "5418783         1.0  False      False              False          False   \n",
       "5418784         1.0  False      False              False          False   \n",
       "5418785         1.0  False      False              False          False   \n",
       "\n",
       "         old_account  account_in_new_device  \n",
       "0              False                  False  \n",
       "1              False                  False  \n",
       "2              False                  False  \n",
       "3              False                  False  \n",
       "4              False                  False  \n",
       "...              ...                    ...  \n",
       "5418781        False                  False  \n",
       "5418782         True                  False  \n",
       "5418783        False                  False  \n",
       "5418784        False                  False  \n",
       "5418785        False                  False  \n",
       "\n",
       "[5416990 rows x 22 columns]"
      ]
     },
     "execution_count": 2,
     "metadata": {},
     "output_type": "execute_result"
    }
   ],
   "source": [
    "logins"
   ]
  },
  {
   "cell_type": "markdown",
   "id": "ad084640-757d-4284-8a7d-1581bdb91895",
   "metadata": {},
   "source": [
    "# Gerando a quantidade de ataques que foram realizados"
   ]
  },
  {
   "cell_type": "code",
   "execution_count": 75,
   "id": "7061893b-8cd6-4722-801c-798065c5dee0",
   "metadata": {},
   "outputs": [
    {
     "data": {
      "text/html": [
       "<div>\n",
       "<style scoped>\n",
       "    .dataframe tbody tr th:only-of-type {\n",
       "        vertical-align: middle;\n",
       "    }\n",
       "\n",
       "    .dataframe tbody tr th {\n",
       "        vertical-align: top;\n",
       "    }\n",
       "\n",
       "    .dataframe thead th {\n",
       "        text-align: right;\n",
       "    }\n",
       "</style>\n",
       "<table border=\"1\" class=\"dataframe\">\n",
       "  <thead>\n",
       "    <tr style=\"text-align: right;\">\n",
       "      <th></th>\n",
       "      <th>Com ataques</th>\n",
       "      <th>Sem ataques</th>\n",
       "    </tr>\n",
       "    <tr>\n",
       "      <th>ato</th>\n",
       "      <th></th>\n",
       "      <th></th>\n",
       "    </tr>\n",
       "  </thead>\n",
       "  <tbody>\n",
       "    <tr>\n",
       "      <th>False</th>\n",
       "      <td>0.0</td>\n",
       "      <td>5412962.0</td>\n",
       "    </tr>\n",
       "    <tr>\n",
       "      <th>True</th>\n",
       "      <td>4028.0</td>\n",
       "      <td>0.0</td>\n",
       "    </tr>\n",
       "  </tbody>\n",
       "</table>\n",
       "</div>"
      ],
      "text/plain": [
       "       Com ataques  Sem ataques\n",
       "ato                            \n",
       "False          0.0    5412962.0\n",
       "True        4028.0          0.0"
      ]
     },
     "execution_count": 75,
     "metadata": {},
     "output_type": "execute_result"
    }
   ],
   "source": [
    "ato = np.where(logins['ato'] == False, 'Sem ataques', 'Com ataques')\n",
    "ato_group = logins.groupby(['ato', ato]).size().unstack().fillna(0)\n",
    "ato_group"
   ]
  },
  {
   "cell_type": "code",
   "execution_count": 71,
   "id": "d75a12f6-6bbe-4229-8325-43d1ffede66d",
   "metadata": {},
   "outputs": [
    {
     "data": {
      "text/plain": [
       "<AxesSubplot:xlabel='Mapeamento de ataques'>"
      ]
     },
     "execution_count": 71,
     "metadata": {},
     "output_type": "execute_result"
    },
    {
     "data": {
      "image/png": "[encoded data removed]",
      "text/plain": [
       "<Figure size 576x576 with 1 Axes>"
      ]
     },
     "metadata": {
      "needs_background": "light"
     },
     "output_type": "display_data"
    }
   ],
   "source": [
    "logins.groupby(['ato']).ato.count().sort_values().plot(kind='bar', figsize=(8, 8), xlabel='Mapeamento de ataques')"
   ]
  },
  {
   "cell_type": "code",
   "execution_count": 76,
   "id": "f6c95ea9-a45d-4434-8f67-5b91303df2d4",
   "metadata": {},
   "outputs": [
    {
     "data": {
      "text/plain": [
       "<AxesSubplot:title={'center':'Mapeamento de ataques'}>"
      ]
     },
     "execution_count": 76,
     "metadata": {},
     "output_type": "execute_result"
    },
    {
     "data": {
      "image/png": "[encoded data removed]",
      "text/plain": [
       "<Figure size 360x360 with 1 Axes>"
      ]
     },
     "metadata": {},
     "output_type": "display_data"
    }
   ],
   "source": [
    "ato_group.sum().plot(kind='pie', autopct='%0.5f%%', figsize=(5,5), label='', title=\"Mapeamento de ataques\")"
   ]
  },
  {
   "cell_type": "markdown",
   "id": "372922eb-2db7-4c02-b287-dfdd8cd87b91",
   "metadata": {},
   "source": [
    "# Agrupando os acessos oficiais e os não oficiais"
   ]
  },
  {
   "cell_type": "code",
   "execution_count": 10,
   "id": "2eb1a092-623d-4c63-8dac-4d7522d492ae",
   "metadata": {},
   "outputs": [
    {
     "data": {
      "text/html": [
       "<div>\n",
       "<style scoped>\n",
       "    .dataframe tbody tr th:only-of-type {\n",
       "        vertical-align: middle;\n",
       "    }\n",
       "\n",
       "    .dataframe tbody tr th {\n",
       "        vertical-align: top;\n",
       "    }\n",
       "\n",
       "    .dataframe thead th {\n",
       "        text-align: right;\n",
       "    }\n",
       "</style>\n",
       "<table border=\"1\" class=\"dataframe\">\n",
       "  <thead>\n",
       "    <tr style=\"text-align: right;\">\n",
       "      <th></th>\n",
       "      <th>Não oficial</th>\n",
       "      <th>Oficial</th>\n",
       "    </tr>\n",
       "    <tr>\n",
       "      <th>is_from_official_store</th>\n",
       "      <th></th>\n",
       "      <th></th>\n",
       "    </tr>\n",
       "  </thead>\n",
       "  <tbody>\n",
       "    <tr>\n",
       "      <th>False</th>\n",
       "      <td>6885.0</td>\n",
       "      <td>0.0</td>\n",
       "    </tr>\n",
       "    <tr>\n",
       "      <th>True</th>\n",
       "      <td>0.0</td>\n",
       "      <td>5410105.0</td>\n",
       "    </tr>\n",
       "  </tbody>\n",
       "</table>\n",
       "</div>"
      ],
      "text/plain": [
       "                        Não oficial    Oficial\n",
       "is_from_official_store                        \n",
       "False                        6885.0        0.0\n",
       "True                            0.0  5410105.0"
      ]
     },
     "execution_count": 10,
     "metadata": {},
     "output_type": "execute_result"
    }
   ],
   "source": [
    "is_from_official_store = np.where(logins['is_from_official_store'] == False, 'Não oficial', 'Oficial')\n",
    "is_from_official_store_group = logins.groupby(['is_from_official_store', is_from_official_store]).size().unstack().fillna(0)\n",
    "is_from_official_store_group"
   ]
  },
  {
   "cell_type": "code",
   "execution_count": 12,
   "id": "7cbb1944-edb1-4348-b71d-3b79337464cb",
   "metadata": {},
   "outputs": [
    {
     "data": {
      "text/plain": [
       "<AxesSubplot:title={'center':'Acessos com aplicativos oficiais e não oficiais'}>"
      ]
     },
     "execution_count": 12,
     "metadata": {},
     "output_type": "execute_result"
    },
    {
     "data": {
      "image/png": "[encoded data removed]",
      "text/plain": [
       "<Figure size 360x360 with 1 Axes>"
      ]
     },
     "metadata": {},
     "output_type": "display_data"
    }
   ],
   "source": [
    "is_from_official_store_group.sum().plot(kind='pie', autopct='%0.2f%%', figsize=(5,5), label='', title=\"Acessos com aplicativos oficiais e não oficiais\")"
   ]
  },
  {
   "cell_type": "markdown",
   "id": "56f537bc-af49-4344-aeec-290c2aefaf4b",
   "metadata": {},
   "source": [
    "# Dispositivos novos x Dispositivos velhos"
   ]
  },
  {
   "cell_type": "code",
   "execution_count": 16,
   "id": "8b8eebf8-6ca7-4ec9-adee-e108aa361182",
   "metadata": {},
   "outputs": [
    {
     "data": {
      "text/html": [
       "<div>\n",
       "<style scoped>\n",
       "    .dataframe tbody tr th:only-of-type {\n",
       "        vertical-align: middle;\n",
       "    }\n",
       "\n",
       "    .dataframe tbody tr th {\n",
       "        vertical-align: top;\n",
       "    }\n",
       "\n",
       "    .dataframe thead th {\n",
       "        text-align: right;\n",
       "    }\n",
       "</style>\n",
       "<table border=\"1\" class=\"dataframe\">\n",
       "  <thead>\n",
       "    <tr style=\"text-align: right;\">\n",
       "      <th></th>\n",
       "      <th>Novos</th>\n",
       "      <th>Velhos</th>\n",
       "    </tr>\n",
       "    <tr>\n",
       "      <th>old_account</th>\n",
       "      <th></th>\n",
       "      <th></th>\n",
       "    </tr>\n",
       "  </thead>\n",
       "  <tbody>\n",
       "    <tr>\n",
       "      <th>False</th>\n",
       "      <td>4498903.0</td>\n",
       "      <td>0.0</td>\n",
       "    </tr>\n",
       "    <tr>\n",
       "      <th>True</th>\n",
       "      <td>0.0</td>\n",
       "      <td>918087.0</td>\n",
       "    </tr>\n",
       "  </tbody>\n",
       "</table>\n",
       "</div>"
      ],
      "text/plain": [
       "                 Novos    Velhos\n",
       "old_account                     \n",
       "False        4498903.0       0.0\n",
       "True               0.0  918087.0"
      ]
     },
     "execution_count": 16,
     "metadata": {},
     "output_type": "execute_result"
    }
   ],
   "source": [
    "old_account = np.where(logins['old_account'] == True, 'Velhos', 'Novos')\n",
    "old_account_group = logins.groupby(['old_account', old_account]).size().unstack().fillna(0)\n",
    "old_account_group"
   ]
  },
  {
   "cell_type": "code",
   "execution_count": 29,
   "id": "0cfda5c3-ebce-44f9-8e2c-bc471e637a63",
   "metadata": {},
   "outputs": [
    {
     "data": {
      "text/plain": [
       "[Text(0, 0, 'Velhos'), Text(1, 0, 'Novos')]"
      ]
     },
     "execution_count": 29,
     "metadata": {},
     "output_type": "execute_result"
    },
    {
     "data": {
      "image/png": "[encoded data removed]",
      "text/plain": [
       "<Figure size 576x576 with 1 Axes>"
      ]
     },
     "metadata": {
      "needs_background": "light"
     },
     "output_type": "display_data"
    }
   ],
   "source": [
    "logins.groupby(['old_account']).old_account.count().sort_values().plot(kind='bar', figsize=(8, 8), xlabel='Mapeamento de dispositivos novos e velhos').set_xticklabels(['Velhos', 'Novos'])"
   ]
  },
  {
   "cell_type": "code",
   "execution_count": 79,
   "id": "465a4d5b-ff9b-4142-965d-d7c7f2fea432",
   "metadata": {},
   "outputs": [
    {
     "data": {
      "text/plain": [
       "<AxesSubplot:title={'center':'Dispositivos velhos e novos'}>"
      ]
     },
     "execution_count": 79,
     "metadata": {},
     "output_type": "execute_result"
    },
    {
     "data": {
      "image/png": "[encoded data removed]",
      "text/plain": [
       "<Figure size 360x360 with 1 Axes>"
      ]
     },
     "metadata": {},
     "output_type": "display_data"
    }
   ],
   "source": [
    "old_account_group.sum().plot(kind='pie', autopct='%0.2f%%', figsize=(5,5), label='', title=\"Dispositivos velhos e novos\")"
   ]
  },
  {
   "cell_type": "markdown",
   "id": "ff403692-c13d-4399-9311-97ad274dd4a6",
   "metadata": {},
   "source": [
    "A grande maioria dos dispositivos tem menos de 1 ano."
   ]
  },
  {
   "cell_type": "markdown",
   "id": "dc4ea247-e229-47ab-9618-67964921b72f",
   "metadata": {},
   "source": [
    "# Ataques realizados por emulador"
   ]
  },
  {
   "cell_type": "code",
   "execution_count": 19,
   "id": "b0e9763c-95f0-4800-bdb0-845a2f7d00c9",
   "metadata": {},
   "outputs": [
    {
     "data": {
      "text/html": [
       "<div>\n",
       "<style scoped>\n",
       "    .dataframe tbody tr th:only-of-type {\n",
       "        vertical-align: middle;\n",
       "    }\n",
       "\n",
       "    .dataframe tbody tr th {\n",
       "        vertical-align: top;\n",
       "    }\n",
       "\n",
       "    .dataframe thead th {\n",
       "        text-align: right;\n",
       "    }\n",
       "</style>\n",
       "<table border=\"1\" class=\"dataframe\">\n",
       "  <thead>\n",
       "    <tr style=\"text-align: right;\">\n",
       "      <th></th>\n",
       "      <th>Sem emulador</th>\n",
       "    </tr>\n",
       "    <tr>\n",
       "      <th>ato_from_emulator</th>\n",
       "      <th></th>\n",
       "    </tr>\n",
       "  </thead>\n",
       "  <tbody>\n",
       "    <tr>\n",
       "      <th>False</th>\n",
       "      <td>5416990</td>\n",
       "    </tr>\n",
       "  </tbody>\n",
       "</table>\n",
       "</div>"
      ],
      "text/plain": [
       "                   Sem emulador\n",
       "ato_from_emulator              \n",
       "False                   5416990"
      ]
     },
     "execution_count": 19,
     "metadata": {},
     "output_type": "execute_result"
    }
   ],
   "source": [
    "ato_from_emulator = np.where(logins['ato_from_emulator'] == True, 'Com emulador', 'Sem emulador')\n",
    "ato_from_emulator_group = logins.groupby(['ato_from_emulator', ato_from_emulator]).size().unstack().fillna(0)\n",
    "ato_from_emulator_group"
   ]
  },
  {
   "cell_type": "code",
   "execution_count": 78,
   "id": "0066200c-45bd-4e14-b873-64dd0beb0da9",
   "metadata": {},
   "outputs": [
    {
     "data": {
      "text/plain": [
       "<AxesSubplot:title={'center':'Ataques realizados através de emuladores'}>"
      ]
     },
     "execution_count": 78,
     "metadata": {},
     "output_type": "execute_result"
    },
    {
     "data": {
      "image/png": "[encoded data removed]",
      "text/plain": [
       "<Figure size 360x360 with 1 Axes>"
      ]
     },
     "metadata": {},
     "output_type": "display_data"
    }
   ],
   "source": [
    "ato_from_emulator_group.sum().plot(kind='pie', autopct='%0.2f%%', figsize=(5,5), label='', title=\"Ataques realizados através de emuladores\")"
   ]
  },
  {
   "cell_type": "markdown",
   "id": "e1afa23a-2417-46b8-97b7-f9a4524567f1",
   "metadata": {},
   "source": [
    "Nenhum ataque foi feito usando emuladores."
   ]
  },
  {
   "cell_type": "markdown",
   "id": "d9cd8608-0aa5-4c6a-81aa-2227ac6f3596",
   "metadata": {},
   "source": [
    "# Ataques realizados por um device com root"
   ]
  },
  {
   "cell_type": "code",
   "execution_count": 22,
   "id": "8bf331d1-6241-4b16-a704-183ef0107fa9",
   "metadata": {},
   "outputs": [
    {
     "data": {
      "text/html": [
       "<div>\n",
       "<style scoped>\n",
       "    .dataframe tbody tr th:only-of-type {\n",
       "        vertical-align: middle;\n",
       "    }\n",
       "\n",
       "    .dataframe tbody tr th {\n",
       "        vertical-align: top;\n",
       "    }\n",
       "\n",
       "    .dataframe thead th {\n",
       "        text-align: right;\n",
       "    }\n",
       "</style>\n",
       "<table border=\"1\" class=\"dataframe\">\n",
       "  <thead>\n",
       "    <tr style=\"text-align: right;\">\n",
       "      <th></th>\n",
       "      <th>Com root</th>\n",
       "      <th>Sem root</th>\n",
       "    </tr>\n",
       "    <tr>\n",
       "      <th>ato_from_root</th>\n",
       "      <th></th>\n",
       "      <th></th>\n",
       "    </tr>\n",
       "  </thead>\n",
       "  <tbody>\n",
       "    <tr>\n",
       "      <th>False</th>\n",
       "      <td>0.0</td>\n",
       "      <td>5416963.0</td>\n",
       "    </tr>\n",
       "    <tr>\n",
       "      <th>True</th>\n",
       "      <td>27.0</td>\n",
       "      <td>0.0</td>\n",
       "    </tr>\n",
       "  </tbody>\n",
       "</table>\n",
       "</div>"
      ],
      "text/plain": [
       "               Com root   Sem root\n",
       "ato_from_root                     \n",
       "False               0.0  5416963.0\n",
       "True               27.0        0.0"
      ]
     },
     "execution_count": 22,
     "metadata": {},
     "output_type": "execute_result"
    }
   ],
   "source": [
    "ato_from_root = np.where(logins['ato_from_root'] == True, 'Com root', 'Sem root')\n",
    "ato_from_root_group = logins.groupby(['ato_from_root', ato_from_root]).size().unstack().fillna(0)\n",
    "ato_from_root_group"
   ]
  },
  {
   "cell_type": "code",
   "execution_count": 25,
   "id": "e478e157-3589-4cc9-b0aa-3d4bb9c6a25b",
   "metadata": {},
   "outputs": [
    {
     "data": {
      "text/plain": [
       "<AxesSubplot:title={'center':'Ataques realizados através de dispositivos com root'}>"
      ]
     },
     "execution_count": 25,
     "metadata": {},
     "output_type": "execute_result"
    },
    {
     "data": {
      "image/png": "[encoded data removed]",
      "text/plain": [
       "<Figure size 360x360 with 1 Axes>"
      ]
     },
     "metadata": {},
     "output_type": "display_data"
    }
   ],
   "source": [
    "ato_from_root_group.sum().plot(kind='pie', autopct='%0.5f%%', figsize=(5,5), label='', title=\"Ataques realizados através de dispositivos com root\")"
   ]
  },
  {
   "cell_type": "markdown",
   "id": "89d25a5c-8387-451a-a7db-a059e67b7c75",
   "metadata": {},
   "source": [
    "# Contas acessadas em dispositivos diferentes do inicial"
   ]
  },
  {
   "cell_type": "code",
   "execution_count": 27,
   "id": "56fbfc15-1566-4eb6-a6c2-e5272c2e42e4",
   "metadata": {},
   "outputs": [
    {
     "data": {
      "text/html": [
       "<div>\n",
       "<style scoped>\n",
       "    .dataframe tbody tr th:only-of-type {\n",
       "        vertical-align: middle;\n",
       "    }\n",
       "\n",
       "    .dataframe tbody tr th {\n",
       "        vertical-align: top;\n",
       "    }\n",
       "\n",
       "    .dataframe thead th {\n",
       "        text-align: right;\n",
       "    }\n",
       "</style>\n",
       "<table border=\"1\" class=\"dataframe\">\n",
       "  <thead>\n",
       "    <tr style=\"text-align: right;\">\n",
       "      <th></th>\n",
       "      <th>Diferente do inicial</th>\n",
       "      <th>No inicial</th>\n",
       "    </tr>\n",
       "    <tr>\n",
       "      <th>account_in_new_device</th>\n",
       "      <th></th>\n",
       "      <th></th>\n",
       "    </tr>\n",
       "  </thead>\n",
       "  <tbody>\n",
       "    <tr>\n",
       "      <th>False</th>\n",
       "      <td>0.0</td>\n",
       "      <td>4838843.0</td>\n",
       "    </tr>\n",
       "    <tr>\n",
       "      <th>True</th>\n",
       "      <td>578147.0</td>\n",
       "      <td>0.0</td>\n",
       "    </tr>\n",
       "  </tbody>\n",
       "</table>\n",
       "</div>"
      ],
      "text/plain": [
       "                       Diferente do inicial  No inicial\n",
       "account_in_new_device                                  \n",
       "False                                   0.0   4838843.0\n",
       "True                               578147.0         0.0"
      ]
     },
     "execution_count": 27,
     "metadata": {},
     "output_type": "execute_result"
    }
   ],
   "source": [
    "account_in_new_device = np.where(logins['account_in_new_device'] == True, 'Diferente do inicial', 'No inicial')\n",
    "account_in_new_device_group = logins.groupby(['account_in_new_device', account_in_new_device]).size().unstack().fillna(0)\n",
    "account_in_new_device_group"
   ]
  },
  {
   "cell_type": "code",
   "execution_count": 28,
   "id": "2bfb8c1e-0bc9-4f67-9207-25ed1386d211",
   "metadata": {},
   "outputs": [
    {
     "data": {
      "text/plain": [
       "<AxesSubplot:title={'center':'Acesso de contas em dispositivos'}>"
      ]
     },
     "execution_count": 28,
     "metadata": {},
     "output_type": "execute_result"
    },
    {
     "data": {
      "image/png": "[encoded data removed]",
      "text/plain": [
       "<Figure size 360x360 with 1 Axes>"
      ]
     },
     "metadata": {},
     "output_type": "display_data"
    }
   ],
   "source": [
    "account_in_new_device_group.sum().plot(kind='pie', autopct='%0.2f%%', figsize=(5,5), label='', title=\"Acesso de contas em dispositivos\")"
   ]
  },
  {
   "cell_type": "markdown",
   "id": "6ca28ea6-d33f-4f3d-8190-4ba591cd1639",
   "metadata": {},
   "source": [
    "# Dispositivos que possuem app de localização falsa"
   ]
  },
  {
   "cell_type": "code",
   "execution_count": 35,
   "id": "1daa3806-0a9e-40f9-a494-cfa625a8d48a",
   "metadata": {},
   "outputs": [
    {
     "data": {
      "text/html": [
       "<div>\n",
       "<style scoped>\n",
       "    .dataframe tbody tr th:only-of-type {\n",
       "        vertical-align: middle;\n",
       "    }\n",
       "\n",
       "    .dataframe tbody tr th {\n",
       "        vertical-align: top;\n",
       "    }\n",
       "\n",
       "    .dataframe thead th {\n",
       "        text-align: right;\n",
       "    }\n",
       "</style>\n",
       "<table border=\"1\" class=\"dataframe\">\n",
       "  <thead>\n",
       "    <tr style=\"text-align: right;\">\n",
       "      <th></th>\n",
       "      <th>Não tem</th>\n",
       "      <th>Tem</th>\n",
       "    </tr>\n",
       "    <tr>\n",
       "      <th>has_fake_location_app</th>\n",
       "      <th></th>\n",
       "      <th></th>\n",
       "    </tr>\n",
       "  </thead>\n",
       "  <tbody>\n",
       "    <tr>\n",
       "      <th>False</th>\n",
       "      <td>5414816.0</td>\n",
       "      <td>0.0</td>\n",
       "    </tr>\n",
       "    <tr>\n",
       "      <th>True</th>\n",
       "      <td>0.0</td>\n",
       "      <td>2174.0</td>\n",
       "    </tr>\n",
       "  </tbody>\n",
       "</table>\n",
       "</div>"
      ],
      "text/plain": [
       "                         Não tem     Tem\n",
       "has_fake_location_app                   \n",
       "False                  5414816.0     0.0\n",
       "True                         0.0  2174.0"
      ]
     },
     "execution_count": 35,
     "metadata": {},
     "output_type": "execute_result"
    }
   ],
   "source": [
    "has_fake_location_app = np.where(logins['has_fake_location_app'] == True, 'Tem', 'Não tem')\n",
    "has_fake_location_app_group = logins.groupby(['has_fake_location_app', has_fake_location_app]).size().unstack().fillna(0)\n",
    "has_fake_location_app_group"
   ]
  },
  {
   "cell_type": "code",
   "execution_count": 36,
   "id": "ccb7484e-4d1c-444e-9995-e34f52eb38f0",
   "metadata": {},
   "outputs": [
    {
     "data": {
      "text/plain": [
       "<AxesSubplot:title={'center':'Dispositivos que tem aplicativo de localização falsas'}>"
      ]
     },
     "execution_count": 36,
     "metadata": {},
     "output_type": "execute_result"
    },
    {
     "data": {
      "image/png": "[encoded data removed]",
      "text/plain": [
       "<Figure size 360x360 with 1 Axes>"
      ]
     },
     "metadata": {},
     "output_type": "display_data"
    }
   ],
   "source": [
    "has_fake_location_app_group.sum().plot(kind='pie', autopct='%0.5f%%', figsize=(5,5), label='', title=\"Dispositivos que tem aplicativo de localização falsas\")"
   ]
  },
  {
   "cell_type": "markdown",
   "id": "af3c3bb6-9eb2-44e2-a528-66df20044450",
   "metadata": {},
   "source": [
    "# Acessos utilizando app de localização falsa"
   ]
  },
  {
   "cell_type": "code",
   "execution_count": 38,
   "id": "6b09ea14-5f6b-4ca3-97af-6c3da39b771c",
   "metadata": {},
   "outputs": [
    {
     "data": {
      "text/html": [
       "<div>\n",
       "<style scoped>\n",
       "    .dataframe tbody tr th:only-of-type {\n",
       "        vertical-align: middle;\n",
       "    }\n",
       "\n",
       "    .dataframe tbody tr th {\n",
       "        vertical-align: top;\n",
       "    }\n",
       "\n",
       "    .dataframe thead th {\n",
       "        text-align: right;\n",
       "    }\n",
       "</style>\n",
       "<table border=\"1\" class=\"dataframe\">\n",
       "  <thead>\n",
       "    <tr style=\"text-align: right;\">\n",
       "      <th></th>\n",
       "      <th>Ativado</th>\n",
       "      <th>Não tem o app ou está desativado</th>\n",
       "    </tr>\n",
       "    <tr>\n",
       "      <th>has_fake_location_enabled</th>\n",
       "      <th></th>\n",
       "      <th></th>\n",
       "    </tr>\n",
       "  </thead>\n",
       "  <tbody>\n",
       "    <tr>\n",
       "      <th>0.0</th>\n",
       "      <td>0.0</td>\n",
       "      <td>5414816.0</td>\n",
       "    </tr>\n",
       "    <tr>\n",
       "      <th>1.0</th>\n",
       "      <td>2174.0</td>\n",
       "      <td>0.0</td>\n",
       "    </tr>\n",
       "  </tbody>\n",
       "</table>\n",
       "</div>"
      ],
      "text/plain": [
       "                           Ativado  Não tem o app ou está desativado\n",
       "has_fake_location_enabled                                           \n",
       "0.0                            0.0                         5414816.0\n",
       "1.0                         2174.0                               0.0"
      ]
     },
     "execution_count": 38,
     "metadata": {},
     "output_type": "execute_result"
    }
   ],
   "source": [
    "has_fake_location_enabled = np.where(logins['has_fake_location_enabled'] == True, 'Ativado', 'Não tem o app ou está desativado')\n",
    "has_fake_location_enabled_group = logins.groupby(['has_fake_location_enabled', has_fake_location_enabled]).size().unstack().fillna(0)\n",
    "has_fake_location_enabled_group"
   ]
  },
  {
   "cell_type": "code",
   "execution_count": 34,
   "id": "71108d04-dc7f-465c-9869-a0925120fffd",
   "metadata": {},
   "outputs": [
    {
     "data": {
      "text/plain": [
       "<AxesSubplot:title={'center':'Aplicativo de localização falsas'}>"
      ]
     },
     "execution_count": 34,
     "metadata": {},
     "output_type": "execute_result"
    },
    {
     "data": {
      "image/png": "[encoded data removed]",
      "text/plain": [
       "<Figure size 360x360 with 1 Axes>"
      ]
     },
     "metadata": {},
     "output_type": "display_data"
    }
   ],
   "source": [
    "has_fake_location_enabled_group.sum().plot(kind='pie', autopct='%0.5f%%', figsize=(5,5), label='', title=\"Aplicativo de localização falsas\")"
   ]
  },
  {
   "cell_type": "markdown",
   "id": "6ff0dd3f-393e-450b-b1e3-7654470127a2",
   "metadata": {},
   "source": [
    "Ou seja, todos os dispositivos que tem app de localização falsa o ativa para realizar o acesso"
   ]
  },
  {
   "cell_type": "markdown",
   "id": "10d7be73-1250-41d1-8724-dfe3ac498c39",
   "metadata": {},
   "source": [
    "# Quantidade contas acessadas pelos dispositivos"
   ]
  },
  {
   "cell_type": "code",
   "execution_count": 47,
   "id": "ca179ece-fe23-426b-a263-ba790f2eccc6",
   "metadata": {},
   "outputs": [
    {
     "data": {
      "text/plain": [
       "<AxesSubplot:xlabel='Variedades de contas por dispositivos'>"
      ]
     },
     "execution_count": 47,
     "metadata": {},
     "output_type": "execute_result"
    },
    {
     "data": {
      "image/png": "[encoded data removed]",
      "text/plain": [
       "<Figure size 720x720 with 1 Axes>"
      ]
     },
     "metadata": {
      "needs_background": "light"
     },
     "output_type": "display_data"
    }
   ],
   "source": [
    "logins.groupby(['n_accounts']).n_accounts.count().sort_values().plot(kind='bar', figsize=(10, 10), xlabel='Variedades de contas por dispositivos')"
   ]
  },
  {
   "cell_type": "markdown",
   "id": "ce6b2e55-2ad1-4aaf-818c-d4a8b6fec3b2",
   "metadata": {},
   "source": [
    "A maioria dos dispositivos só acessam 1 conta."
   ]
  },
  {
   "cell_type": "markdown",
   "id": "85559a6e-b9d9-45f7-8ce3-afd489c7c126",
   "metadata": {},
   "source": [
    "# Quandidade de acesso por mês, do mês 4 ao mês 7 de 2021"
   ]
  },
  {
   "cell_type": "code",
   "execution_count": 77,
   "id": "7db8a0bd-6cc4-44a1-be0c-af0f622d3a62",
   "metadata": {},
   "outputs": [
    {
     "data": {
      "text/plain": [
       "<AxesSubplot:title={'center':'Acessos por mês'}>"
      ]
     },
     "execution_count": 77,
     "metadata": {},
     "output_type": "execute_result"
    },
    {
     "data": {
      "image/png": "[encoded data removed]",
      "text/plain": [
       "<Figure size 360x360 with 1 Axes>"
      ]
     },
     "metadata": {},
     "output_type": "display_data"
    }
   ],
   "source": [
    "access_per_year = logins.groupby([pd.to_datetime(logins['timestamp']).apply(lambda x: x.date().month)]).size()\n",
    "access_per_year.plot(kind='pie', autopct='%0.2f%%', figsize=(5,5), title='Acessos por mês', label='')"
   ]
  },
  {
   "cell_type": "markdown",
   "id": "c265f556-ef99-463b-ab53-35dfa658d803",
   "metadata": {},
   "source": [
    "O mês com menor porcentagem de acessos é o mês de abril e com maior é o mês de julho."
   ]
  },
  {
   "cell_type": "code",
   "execution_count": null,
   "id": "1a4c5e92-68f3-4609-8ad8-80b771ac2a86",
   "metadata": {},
   "outputs": [],
   "source": []
  }
 ],
 "metadata": {
  "kernelspec": {
   "display_name": "Python 3",
   "language": "python",
   "name": "python3"
  },
  "language_info": {
   "codemirror_mode": {
    "name": "ipython",
    "version": 3
   },
   "file_extension": ".py",
   "mimetype": "text/x-python",
   "name": "python",
   "nbconvert_exporter": "python",
   "pygments_lexer": "ipython3",
   "version": "3.8.8"
  }
 },
 "nbformat": 4,
 "nbformat_minor": 5
}
