{
 "cells": [
  {
   "cell_type": "code",
   "execution_count": 1,
   "id": "136d41b8",
   "metadata": {},
   "outputs": [],
   "source": [
    "import pandas as pd\n"
   ]
  },
  {
   "cell_type": "markdown",
   "id": "8e668fca",
   "metadata": {},
   "source": [
    "This function is used to convert parquet file to more readable csv file"
   ]
  },
  {
   "cell_type": "code",
   "execution_count": 2,
   "id": "2f7aaaa1",
   "metadata": {},
   "outputs": [],
   "source": [
    "def convert_parquet_to_csv(parquet_file, csv_file_name = \"login.csv\"):\n",
    "    df = pd.read_parquet(parquet_file)\n",
    "    df.to_csv(csv_file_name)\n",
    "    return"
   ]
  }
 ],
 "metadata": {
  "kernelspec": {
   "display_name": "Python 3",
   "language": "python",
   "name": "python3"
  },
  "language_info": {
   "codemirror_mode": {
    "name": "ipython",
    "version": 3
   },
   "file_extension": ".py",
   "mimetype": "text/x-python",
   "name": "python",
   "nbconvert_exporter": "python",
   "pygments_lexer": "ipython3",
   "version": "3.9.0"
  }
 },
 "nbformat": 4,
 "nbformat_minor": 5
}
